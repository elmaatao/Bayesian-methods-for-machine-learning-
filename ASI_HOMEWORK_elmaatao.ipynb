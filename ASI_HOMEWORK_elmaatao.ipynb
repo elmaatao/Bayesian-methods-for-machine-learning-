{
 "cells": [
  {
   "cell_type": "markdown",
   "metadata": {},
   "source": [
    "1-Download the MNIST dataset and import it :"
   ]
  },
  {
   "cell_type": "code",
   "execution_count": 1,
   "metadata": {
    "collapsed": true
   },
   "outputs": [],
   "source": [
    "# this part is used to convert our mnist .gz files to .csv , then we will upload the .csv files "
   ]
  },
  {
   "cell_type": "code",
   "execution_count": 5,
   "metadata": {
    "collapsed": true
   },
   "outputs": [],
   "source": [
    "def convert(imgf, labelf, outf, n):\n",
    "    f = open(imgf, \"rb\")\n",
    "    o = open(outf, \"w\")\n",
    "    l = open(labelf, \"rb\")\n",
    "\n",
    "    f.read(16)\n",
    "    l.read(8)\n",
    "    images = []\n",
    "\n",
    "    for i in range(n):\n",
    "        image = [ord(l.read(1))]\n",
    "        for j in range(28*28):\n",
    "            image.append(ord(f.read(1)))\n",
    "        images.append(image)\n",
    "\n",
    "    for image in images:\n",
    "        o.write(\",\".join(str(pix) for pix in image)+\"\\n\")\n",
    "    f.close()\n",
    "    o.close()\n",
    "    l.close()\n",
    "\n",
    "\n"
   ]
  },
  {
   "cell_type": "code",
   "execution_count": 7,
   "metadata": {
    "collapsed": true
   },
   "outputs": [],
   "source": [
    "convert(\"C:/Users/ELMAATAOUI OUSSAMA/Desktop/train-images-idx3-ubyte.gz\", 'C:/Users/ELMAATAOUI OUSSAMA/Desktop/train-labels-idx1-ubyte.gz',\n",
    "        \"mnist_train.csv\", 60000)\n",
    "convert(\"C:/Users/ELMAATAOUI OUSSAMA/Desktop/t10k-images-idx3-ubyte.gz\", \"C:/Users/ELMAATAOUI OUSSAMA/Desktop/t10k-labels-idx1-ubyte.gz\",\n",
    "        \"mnist_test.csv\", 10000)\n"
   ]
  },
  {
   "cell_type": "markdown",
   "metadata": {},
   "source": [
    "Now that we converted the gz files to csv we will work with the csv forms :"
   ]
  },
  {
   "cell_type": "code",
   "execution_count": 1,
   "metadata": {
    "collapsed": true
   },
   "outputs": [],
   "source": [
    "import numpy as np\n",
    "import csv\n",
    "X_trainMNIST=[]\n",
    "Y_trainMNIST=[]\n",
    "with open('C:/Users/ELMAATAOUI OUSSAMA/Desktop/mnist_train.csv', 'r') as f:\n",
    "    reader = csv.reader(f)\n",
    "    \n",
    "    for row in reader:\n",
    "        X_trainMNIST+=row[1:]\n",
    "        Y_trainMNIST+=row[0]\n",
    "        \n",
    "        \n",
    "X_trainMNIST=[int(x) for x in X_trainMNIST]\n",
    "X_trainMNIST=np.array(X_trainMNIST).reshape(60000,784)\n",
    "Y_trainMNIST=[int(x) for x in Y_trainMNIST]\n",
    "\n",
    "X_testMNIST=[]\n",
    "Y_testMNIST=[]\n",
    "with open('C:/Users/ELMAATAOUI OUSSAMA/Desktop/mnist_test.csv', 'r') as f:\n",
    "    reader = csv.reader(f)\n",
    "    \n",
    "    for row in reader:\n",
    "        X_testMNIST+=row[1:]\n",
    "        Y_testMNIST+=row[0]\n",
    "        \n",
    "        \n",
    "X_testMNIST=[int(x) for x in X_testMNIST]\n",
    "X_testMNIST=np.array(X_testMNIST).reshape(10000,784)\n",
    "Y_testMNIST=[int(x) for x in Y_testMNIST]\n",
    "\n"
   ]
  },
  {
   "cell_type": "markdown",
   "metadata": {},
   "source": [
    "Download the Cifar dataset and import it :"
   ]
  },
  {
   "cell_type": "code",
   "execution_count": 2,
   "metadata": {
    "collapsed": true
   },
   "outputs": [],
   "source": [
    "def unpickle(file):\n",
    "    import pickle\n",
    "    with open(file, 'rb') as fo:\n",
    "        dict = pickle.load(fo, encoding='bytes')\n",
    "    return dict\n",
    "\n",
    "\n",
    "databatch1=unpickle('C:/Users/ELMAATAOUI OUSSAMA/Desktop/cifar-10-batches-py/data_batch_1')\n",
    "databatch2=unpickle('C:/Users/ELMAATAOUI OUSSAMA/Desktop/cifar-10-batches-py/data_batch_2')\n",
    "databatch3=unpickle('C:/Users/ELMAATAOUI OUSSAMA/Desktop/cifar-10-batches-py/data_batch_3')\n",
    "databatch4=unpickle('C:/Users/ELMAATAOUI OUSSAMA/Desktop/cifar-10-batches-py/data_batch_4')\n",
    "databatch5=unpickle('C:/Users/ELMAATAOUI OUSSAMA/Desktop/cifar-10-batches-py/data_batch_5')\n",
    "batchmeta=unpickle('C:/Users/ELMAATAOUI OUSSAMA/Desktop/cifar-10-batches-py/batches.meta')\n",
    "testbatch=unpickle('C:/Users/ELMAATAOUI OUSSAMA/Desktop/cifar-10-batches-py/test_batch')\n",
    "\n",
    "import numpy as np\n",
    "X_trainbatch1CIFAR=np.array([[int(databatch1[b'data'][k][j]) for j in range(len(databatch1[b'data'][0]))] for k in range(len(databatch1[b'data']))])\n",
    "Y_trainbatch1CIFAR=np.array([int(databatch1[b'labels'][k])  for k in range(len(databatch1[b'labels']))])\n",
    "X_testCIFAR=np.array([[int(testbatch[b'data'][k][j]) for j in range(len(testbatch[b'data'][0]))] for k in range(len(testbatch[b'data']))])\n",
    "Y_testCIFAR=[int(testbatch[b'labels'][k])  for k in range(len(testbatch[b'labels']))]\n"
   ]
  },
  {
   "cell_type": "code",
   "execution_count": 3,
   "metadata": {
    "collapsed": true
   },
   "outputs": [],
   "source": [
    "Xbatch1=[[int(databatch1[b'data'][k][j]) for j in range(len(databatch1[b'data'][0]))] for k in range(len(databatch1[b'data']))]\n",
    "Xbatch2=[[int(databatch2[b'data'][k][j]) for j in range(len(databatch2[b'data'][0]))] for k in range(len(databatch2[b'data']))]\n",
    "Xbatch3=[[int(databatch3[b'data'][k][j]) for j in range(len(databatch3[b'data'][0]))] for k in range(len(databatch3[b'data']))]\n",
    "Xbatch4=[[int(databatch4[b'data'][k][j]) for j in range(len(databatch4[b'data'][0]))] for k in range(len(databatch4[b'data']))]\n",
    "Xbatch5=[[int(databatch5[b'data'][k][j]) for j in range(len(databatch5[b'data'][0]))] for k in range(len(databatch5[b'data']))]\n",
    "\n",
    "Ybatch1=[int(databatch1[b'labels'][k])  for k in range(len(databatch1[b'labels']))]\n",
    "Ybatch2=[int(databatch2[b'labels'][k])  for k in range(len(databatch2[b'labels']))]\n",
    "Ybatch3=[int(databatch3[b'labels'][k])  for k in range(len(databatch3[b'labels']))]\n",
    "Ybatch4=[int(databatch4[b'labels'][k])  for k in range(len(databatch4[b'labels']))]\n",
    "Ybatch5=[int(databatch5[b'labels'][k])  for k in range(len(databatch5[b'labels']))]\n"
   ]
  },
  {
   "cell_type": "code",
   "execution_count": 65,
   "metadata": {
    "collapsed": true
   },
   "outputs": [],
   "source": [
    "totalX=np.array(Xbatch1+Xbatch2+Xbatch3+Xbatch4+Xbatch5)\n",
    "totalY=np.array(Ybatch1+Ybatch2+Ybatch3+Ybatch4+Ybatch5)"
   ]
  },
  {
   "cell_type": "markdown",
   "metadata": {},
   "source": [
    "2-Comment on the distribution of class labels and the dimensionality of the input and how these may affect the analysis."
   ]
  },
  {
   "cell_type": "code",
   "execution_count": 25,
   "metadata": {
    "collapsed": true
   },
   "outputs": [],
   "source": [
    "import numpy\n",
    "import matplotlib.pyplot as plt"
   ]
  },
  {
   "cell_type": "code",
   "execution_count": 3,
   "metadata": {},
   "outputs": [
    {
     "data": {
      "text/plain": [
       "784"
      ]
     },
     "execution_count": 3,
     "metadata": {},
     "output_type": "execute_result"
    }
   ],
   "source": [
    "len(X_trainMNIST[0])"
   ]
  },
  {
   "cell_type": "code",
   "execution_count": 7,
   "metadata": {},
   "outputs": [
    {
     "data": {
      "text/plain": [
       "3072"
      ]
     },
     "execution_count": 7,
     "metadata": {},
     "output_type": "execute_result"
    }
   ],
   "source": [
    "len(X_trainbatch1CIFAR[0])"
   ]
  },
  {
   "cell_type": "code",
   "execution_count": 42,
   "metadata": {},
   "outputs": [
    {
     "data": {
      "image/png": "[encoded data removed]",
      "text/plain": [
       "<matplotlib.figure.Figure at 0x16623c54390>"
      ]
     },
     "metadata": {},
     "output_type": "display_data"
    }
   ],
   "source": [
    "plt.hist(Y_trainMNIST,bins='auto')\n",
    "plt.title(\"histogram of Mnist Labels\")\n",
    "plt.show()"
   ]
  },
  {
   "cell_type": "code",
   "execution_count": 43,
   "metadata": {},
   "outputs": [
    {
     "data": {
      "image/png": "[encoded data removed]",
      "text/plain": [
       "<matplotlib.figure.Figure at 0x16623d5efd0>"
      ]
     },
     "metadata": {},
     "output_type": "display_data"
    }
   ],
   "source": [
    "plt.hist(totalY,bins='auto')\n",
    "plt.title(\"histogram of CIFAR Labels\")\n",
    "plt.show()"
   ]
  },
  {
   "cell_type": "markdown",
   "metadata": {},
   "source": [
    "-We have a training data of 60000 elements and 784 features for Mnist and 50000 elements for Cifar separated into mini batches with 3072 features . We can assume that training Cifar will take much more time since it has many features comparing to Mnist .\n",
    "\n",
    "-We can see that the labels of Cifar are distributed uniformaly i.e. the probability of one label is equal to the other while Mnist has a non uniform distribution , this will probably affect the bayesian training when introducing the prior , it would have more effect for Mnist than Cifar .\n"
   ]
  },
  {
   "cell_type": "markdown",
   "metadata": {},
   "source": [
    "3.Classification"
   ]
  },
  {
   "cell_type": "markdown",
   "metadata": {},
   "source": [
    "3-a-Naive Bayesian :"
   ]
  },
  {
   "cell_type": "markdown",
   "metadata": {},
   "source": [
    "Our algorithm will calculate the log of posterior instead of posterior in order not to get null values when calculating with Python that considers 0.00000000..1= 0"
   ]
  },
  {
   "cell_type": "markdown",
   "metadata": {},
   "source": [
    "3-b- One clear negatif feature for the naive bayesian is that since naive Bayes naively multiplies all the feature likelihoods together, zero probabilities in the likelihood term for any class will cause the probability of the class to be zero, no matter the other evidence , adding to that the fact that it assumes STRONG independance which is usually not the case , that is why it is considered naive .A naive Bayesian classifier assumes that the existence of a characteristic for a class is independent of the existence of other characteristics .\n",
    "A positif feature for this classifier is that it is easy to implement and the concept is simple using directly a bayesian classification based on the Bayes theorem . It is also fast when running with a low complexity ."
   ]
  },
  {
   "cell_type": "code",
   "execution_count": null,
   "metadata": {
    "collapsed": true
   },
   "outputs": [],
   "source": []
  },
  {
   "cell_type": "markdown",
   "metadata": {},
   "source": [
    "3-c We will the classical way of representing our data which consists on puting all the train images in a matrix called Xtrain and the labels of those images respectively in a column vector Ytrain , Xtrain and Ytrain will then have the same number of lines ; each line in Xtrain is associated to a label in Ytrain . Our classification algorithms will take Xtrain and Ytrain to train the model and then test it on Xtest and Ytest . This modelisation will be used for both MNIST and Cifar ."
   ]
  },
  {
   "cell_type": "markdown",
   "metadata": {},
   "source": [
    "3-d- Applying classifier :"
   ]
  },
  {
   "cell_type": "markdown",
   "metadata": {},
   "source": [
    "We have decided to work with the log likelihood of the gaussian distribution in order not to get very low values that could be considered as null for python , the prior doesn't affect the classifying for Cifar since it is distributed uniformally , however it should be calculated for MNIST since it is not uniform . "
   ]
  },
  {
   "cell_type": "code",
   "execution_count": 46,
   "metadata": {
    "collapsed": true
   },
   "outputs": [],
   "source": [
    "\n",
    "\n",
    "import csv\n",
    "import random\n",
    "import math\n",
    " \n",
    "def mean(numbers):\n",
    "    return sum(numbers)/float(len(numbers))\n",
    " \n",
    "def stdev(numbers):\n",
    "    avg = mean(numbers)\n",
    "    variance = sum([pow(x-avg,2) for x in numbers])/float(len(numbers)-1)\n",
    "    return math.sqrt(variance)\n",
    "\n",
    "def calculateProbability(x, mean, stdev):\n",
    "    if stdev==0:\n",
    "        return 1\n",
    "    else:\n",
    "        \n",
    "        return -math.log((math.sqrt(2*math.pi) * stdev))-(math.pow(x-mean,2)/(2*math.pow(stdev,2)))"
   ]
  },
  {
   "cell_type": "code",
   "execution_count": 47,
   "metadata": {
    "collapsed": true
   },
   "outputs": [],
   "source": [
    "def createdictionaryofclasses(dataset,labels):\n",
    "    classesdictio = {}\n",
    "    for i in range(len(dataset)):\n",
    "        ourvector = dataset[i]\n",
    "        ourlabel= labels[i]\n",
    "        if (ourlabel not in classesdictio):\n",
    "            classesdictio[ourlabel] = []\n",
    "        classesdictio[ourlabel].append(ourvector)\n",
    "    return classesdictio\n",
    "\n",
    "def classproba(dataset,labels,classValue):\n",
    "    classesdictio=createdictionaryofclasses(dataset,labels)\n",
    "    return -math.log((len(dataset)/len(classesdictio[classValue])))\n",
    "\n",
    "\n",
    "#we should include as i said before multiplying by the prior for the mnist data since it is not\n",
    "#distributed uniformaly .\n",
    "\n",
    "classprobalist=[classproba(X_trainMNIST,Y_trainMNIST,classValue) for classValue in range(10)]\n",
    "\n",
    "\n",
    "def calculate_mean_sdev(dataset):\n",
    "    result = [(mean(x), stdev(x)) for x in zip(*dataset)]\n",
    "    return result\n",
    " \n",
    "def calculate_mean_sdev_all_labels(dataset,labels):\n",
    "    classesdictio = createdictionaryofclasses(dataset,labels)\n",
    "    result = {}\n",
    "    for label, elements in classesdictio.items():\n",
    "        result[label] = calculate_mean_sdev(elements)\n",
    "    return result"
   ]
  },
  {
   "cell_type": "code",
   "execution_count": 106,
   "metadata": {
    "collapsed": true
   },
   "outputs": [],
   "source": [
    "def calculate_Class_Probabilities(result,ourvector):\n",
    "    probabilities = {}\n",
    "    for label, meansdevelements in result.items():\n",
    "        \n",
    "        probabilities[label] = classprobalist[int(label)]# 0 if we are working with cifar \n",
    "\n",
    "        for i in range(len(meansdevelements)):\n",
    "            mean, stdev = meansdevelements[i]\n",
    "            x = ourvector[i]\n",
    "            probabilities[label] += calculateProbability(x, mean, stdev)\n",
    "    return probabilities\n",
    "def maxdictio(probabilities):\n",
    "    s=probabilities[0]\n",
    "    index=0\n",
    "    for k in range(len(probabilities)):\n",
    "        if probabilities[k]>s :\n",
    "            s=probabilities[k]\n",
    "            index=k\n",
    "    return index\n",
    "    \n",
    "\n",
    "def Predictions(result, vectors):\n",
    "    predictions = []\n",
    "    for i in range(len(vectors)):\n",
    "        probabilities = calculate_Class_Probabilities(result, vectors[i])\n",
    "        labelprediction =maxdictio(probabilities)\n",
    "        predictions.append(labelprediction)\n",
    "    return predictions"
   ]
  },
  {
   "cell_type": "code",
   "execution_count": null,
   "metadata": {
    "collapsed": true
   },
   "outputs": [],
   "source": []
  },
  {
   "cell_type": "markdown",
   "metadata": {},
   "source": [
    "For Mnist data :"
   ]
  },
  {
   "cell_type": "code",
   "execution_count": 51,
   "metadata": {
    "collapsed": true
   },
   "outputs": [],
   "source": [
    "result = calculate_mean_sdev_all_labels(X_trainMNIST,Y_trainMNIST)\n",
    "predictions= Predictions(result,X_testMNIST)"
   ]
  },
  {
   "cell_type": "markdown",
   "metadata": {},
   "source": [
    "Accuracy evaluation :"
   ]
  },
  {
   "cell_type": "code",
   "execution_count": 103,
   "metadata": {},
   "outputs": [
    {
     "name": "stdout",
     "output_type": "stream",
     "text": [
      "accuracy : 62.160000000000004\n"
     ]
    }
   ],
   "source": [
    "s=0\n",
    "for k in range(len(Y_testMNIST)):\n",
    "    if predictions[k]==Y_testMNIST[k] :\n",
    "        s+=1\n",
    "print(\"accuracy :\",(s/float(len(Y_testMNIST)))*100)"
   ]
  },
  {
   "cell_type": "markdown",
   "metadata": {},
   "source": [
    "Test loglikelihood evaluation :"
   ]
  },
  {
   "cell_type": "code",
   "execution_count": null,
   "metadata": {
    "collapsed": true
   },
   "outputs": [],
   "source": []
  },
  {
   "cell_type": "code",
   "execution_count": null,
   "metadata": {
    "collapsed": true
   },
   "outputs": [],
   "source": []
  },
  {
   "cell_type": "markdown",
   "metadata": {},
   "source": [
    "For Cifar Data :"
   ]
  },
  {
   "cell_type": "code",
   "execution_count": 109,
   "metadata": {
    "collapsed": true
   },
   "outputs": [],
   "source": [
    "resultcifar = calculate_mean_sdev_all_labels(totalX,totalY)"
   ]
  },
  {
   "cell_type": "code",
   "execution_count": 110,
   "metadata": {
    "collapsed": true
   },
   "outputs": [],
   "source": [
    "predictions= Predictions(resultcifar,X_testCIFAR)"
   ]
  },
  {
   "cell_type": "markdown",
   "metadata": {},
   "source": [
    "Accuracy evaluation : "
   ]
  },
  {
   "cell_type": "code",
   "execution_count": 111,
   "metadata": {},
   "outputs": [
    {
     "name": "stdout",
     "output_type": "stream",
     "text": [
      "accuracy : 29.759999999999998\n"
     ]
    }
   ],
   "source": [
    "s=0\n",
    "for k in range(len(Y_testCIFAR)):\n",
    "    if predictions[k]==Y_testCIFAR[k] :\n",
    "        s+=1\n",
    "print(\"accuracy :\",(s/float(len(Y_testCIFAR)))*100)"
   ]
  },
  {
   "cell_type": "markdown",
   "metadata": {},
   "source": [
    "Test loglikelihood evaluation :"
   ]
  },
  {
   "cell_type": "code",
   "execution_count": null,
   "metadata": {
    "collapsed": true
   },
   "outputs": [],
   "source": []
  },
  {
   "cell_type": "code",
   "execution_count": null,
   "metadata": {
    "collapsed": true
   },
   "outputs": [],
   "source": []
  },
  {
   "cell_type": "markdown",
   "metadata": {},
   "source": [
    "e- Confusion Matrix :"
   ]
  },
  {
   "cell_type": "code",
   "execution_count": 55,
   "metadata": {
    "collapsed": true
   },
   "outputs": [],
   "source": [
    "import numpy as np\n",
    "def confusion_Matrix(testSet,predictions):\n",
    "    confusionMatrix=np.array([[0]*(int(max(predictions))+1) for i in range (0,(int(max(predictions))+1))]) #Initializing the confusion matrix\n",
    "    for i in range (len(testSet)):\n",
    "        confusionMatrix[testSet[i]][predictions[i]]+=1\n",
    "    return confusionMatrix"
   ]
  },
  {
   "cell_type": "markdown",
   "metadata": {},
   "source": [
    "Mnist : "
   ]
  },
  {
   "cell_type": "code",
   "execution_count": 105,
   "metadata": {},
   "outputs": [
    {
     "data": {
      "text/plain": [
       "array([[ 882,    1,    3,    4,    3,    8,   29,    1,   33,   16],\n",
       "       [   0, 1090,    1,    2,    0,    1,    9,    0,   30,    2],\n",
       "       [  47,   32,  416,   83,    7,    2,  208,    7,  215,   15],\n",
       "       [  21,   43,    9,  558,    3,    4,   38,   10,  239,   85],\n",
       "       [  14,    7,    7,    2,  307,    9,   52,    9,  125,  450],\n",
       "       [  72,   32,    4,   32,   10,   95,   34,    5,  522,   86],\n",
       "       [  12,   16,    6,    0,    1,    8,  888,    0,   26,    1],\n",
       "       [   0,   16,    4,   12,    7,    3,    4,  375,   34,  573],\n",
       "       [  14,   91,    4,   12,    6,   15,   11,    6,  669,  146],\n",
       "       [   6,   12,    3,    8,    6,    1,    1,   18,   18,  936]])"
      ]
     },
     "execution_count": 105,
     "metadata": {},
     "output_type": "execute_result"
    }
   ],
   "source": [
    "confusion_Matrix(Y_testMNIST,predictions)"
   ]
  },
  {
   "cell_type": "code",
   "execution_count": null,
   "metadata": {
    "collapsed": true
   },
   "outputs": [],
   "source": []
  },
  {
   "cell_type": "markdown",
   "metadata": {},
   "source": [
    "Cifar :"
   ]
  },
  {
   "cell_type": "code",
   "execution_count": 112,
   "metadata": {},
   "outputs": [
    {
     "data": {
      "text/plain": [
       "array([[494,  20,  39,  10,  85,  34,  50,   9, 199,  60],\n",
       "       [141, 166,  24,  31,  66,  72, 192,  19, 121, 168],\n",
       "       [225,  24,  83,  15, 292,  48, 209,  21,  54,  29],\n",
       "       [163,  36,  54,  76, 151, 129, 262,  26,  34,  69],\n",
       "       [ 86,   8,  57,  26, 417,  38, 265,  22,  50,  31],\n",
       "       [156,  17,  55,  51, 167, 264, 159,  36,  57,  38],\n",
       "       [106,   2,  60,  18, 228,  46, 467,  15,  19,  39],\n",
       "       [134,  24,  36,  41, 228,  94, 102, 131,  72, 138],\n",
       "       [168,  41,  18,  17,  56,  83,  39,   8, 471,  99],\n",
       "       [144,  67,  17,  20,  48,  32, 101,  23, 141, 407]])"
      ]
     },
     "execution_count": 112,
     "metadata": {},
     "output_type": "execute_result"
    }
   ],
   "source": [
    "confusion_Matrix(Y_testCIFAR,predictions)"
   ]
  },
  {
   "cell_type": "code",
   "execution_count": null,
   "metadata": {
    "collapsed": true
   },
   "outputs": [],
   "source": []
  },
  {
   "cell_type": "markdown",
   "metadata": {},
   "source": [
    "3-f- We can notice that for MNIST we got an accuracy of 62,16% and we got 29,76% for cifar , we would like to compare it to a classifier outputing random class labels . If we want to classify a certain image randomly , knowing that there are 10 possible labels , we have 10% chance (accuracy) to take a good decision , we can then see clearly that our classifier for both models is a way better than the random classifier by providing a higher accuracy. Ways to improve performance would be to apply for example 5 cross validation for cifar data since we have 5 available training batches , that would probably improve accuracy ,training for more data would also improve performance , an other way would be to consider working on a model that considers the different patches in an image such as convolutional neural networks where we apply a filter into the image to learn each area in it and therefore get a very high accuracy at the end ."
   ]
  },
  {
   "cell_type": "markdown",
   "metadata": {},
   "source": [
    "Linear bayesian regression"
   ]
  },
  {
   "cell_type": "markdown",
   "metadata": {},
   "source": [
    "a- Implementation :"
   ]
  },
  {
   "cell_type": "code",
   "execution_count": 6,
   "metadata": {
    "collapsed": true
   },
   "outputs": [],
   "source": [
    "import numpy as np\n",
    "from numpy import linalg as LA\n",
    "from numpy.random import multivariate_normal\n",
    "\n",
    "\n",
    "class BayesianLinearRegression:\n",
    " \n",
    "    def __init__(self, lamb=20., beta_mu=0, sigma=1, fit_intercept=True):\n",
    "        if not np.isscalar(lamb):\n",
    "            self.inv_lamb = 1./np.asarray(lamb)\n",
    "        else:\n",
    "            self.inv_lamb = 1./float(lamb)\n",
    "        if not np.isscalar(beta_mu):\n",
    "            self.beta_mu  = np.asarray(beta_mu)\n",
    "        else:\n",
    "            self.beta_mu = float(beta_mu)\n",
    "\n",
    "        self.sigma = sigma\n",
    "        self.fit_intercept = fit_intercept\n",
    "    \n",
    "    \n",
    "    def add_intercept(self, X):\n",
    "        X_new = np.ones((X.shape[0],X.shape[1]+1), dtype=X.dtype)\n",
    "        X_new[:,1:] = X[:,:]\n",
    "        return X_new\n",
    "\n",
    "    def fit_map(self, X, y, full_posterior=True):\n",
    "        if self.fit_intercept:\n",
    "            X = self.add_intercept(X)\n",
    "    #data setup\n",
    "        f_dim = X.shape[1]\n",
    "        if np.isscalar(self.inv_lamb):\n",
    "            inv_lamb = np.diagflat(np.repeat(self.inv_lamb,f_dim))\n",
    "        else:\n",
    "            inv_lamb = np.diagflat(self.inv_lamb)\n",
    "        if np.isscalar(self.beta_mu):\n",
    "            beta_mu = np.repeat(self.beta_mu,f_dim)\n",
    "        else:\n",
    "            beta_mu = self.beta_mu\n",
    "        sigma = self.sigma\n",
    "    #let the actual calculation begin\n",
    "        l = sigma**2 * inv_lamb\n",
    "        s = LA.inv(X.T.dot(X)+l)\n",
    "    # adding in the mean of the prior\n",
    "        b0 = sigma**2 * inv_lamb.dot(beta_mu)\n",
    "\n",
    "        self.beta = s.dot(X.T.dot(y) + b0)\n",
    "        if full_posterior:\n",
    "            self.Sigma = sigma * sigma * s\n",
    "\n",
    "    def predict(self, X):\n",
    "        if self.fit_intercept:\n",
    "            X = self.add_intercept(X)\n",
    "        return X.dot(self.beta)\n",
    "    #int(round(X.dot(self.beta))"
   ]
  },
  {
   "cell_type": "markdown",
   "metadata": {},
   "source": [
    "4-b/4-c/4-d/ For Mnist data: "
   ]
  },
  {
   "cell_type": "markdown",
   "metadata": {},
   "source": [
    "4-b(Mnist) :"
   ]
  },
  {
   "cell_type": "code",
   "execution_count": 7,
   "metadata": {
    "collapsed": true
   },
   "outputs": [],
   "source": [
    "clf = BayesianLinearRegression(fit_intercept=False)\n",
    "clf.fit_map(X_trainMNIST,Y_trainMNIST)"
   ]
  },
  {
   "cell_type": "code",
   "execution_count": 8,
   "metadata": {
    "collapsed": true
   },
   "outputs": [],
   "source": [
    "Ypredicted=[clf.predict(X_testMNIST[k]) for k in range(len(Y_testMNIST))]"
   ]
  },
  {
   "cell_type": "markdown",
   "metadata": {
    "collapsed": true
   },
   "source": [
    "4-c(Mnist):"
   ]
  },
  {
   "cell_type": "markdown",
   "metadata": {
    "collapsed": true
   },
   "source": [
    "In order to answer this question , we will visualize at first the different points that were predicted using the regression for each class (0-9) , in the abscisse ."
   ]
  },
  {
   "cell_type": "code",
   "execution_count": 45,
   "metadata": {
    "collapsed": true
   },
   "outputs": [],
   "source": [
    "def createdictionaryofclasses(dataset,labels):\n",
    "    classesdictio = {}\n",
    "    for i in range(len(dataset)):\n",
    "        ourvector = dataset[i]\n",
    "        ourlabel= labels[i]\n",
    "        if (ourlabel not in classesdictio):\n",
    "            classesdictio[ourlabel] = []\n",
    "        classesdictio[ourlabel].append(ourvector)\n",
    "    return classesdictio"
   ]
  },
  {
   "cell_type": "code",
   "execution_count": 47,
   "metadata": {
    "collapsed": true
   },
   "outputs": [],
   "source": [
    "dictio_of_classes = createdictionaryofclasses(Ypredicted,Y_testMNIST)"
   ]
  },
  {
   "cell_type": "code",
   "execution_count": 66,
   "metadata": {
    "collapsed": true
   },
   "outputs": [],
   "source": [
    "import matplotlib.pyplot as plt\n",
    "fig, ax = plt.subplots()\n",
    "for k in range(10):\n",
    "    ax.scatter([[k]*len(dictio_of_classes[k])],dictio_of_classes[k])"
   ]
  },
  {
   "cell_type": "code",
   "execution_count": 67,
   "metadata": {},
   "outputs": [
    {
     "data": {
      "image/png": "[encoded data removed]",
      "text/plain": [
       "<matplotlib.figure.Figure at 0x239a1b0e908>"
      ]
     },
     "metadata": {},
     "output_type": "display_data"
    }
   ],
   "source": [
    "plt.xlabel('real labels')\n",
    "plt.ylabel('estimations with bayesian linear regression ')\n",
    "plt.show()"
   ]
  },
  {
   "cell_type": "markdown",
   "metadata": {},
   "source": [
    "We can see that when the real label of the image is 0 , we get using our regression model values going from -2.5 into 7.5 which is an intervalle of size 10 , for 1 the intervalle is smaller , then much higher for 2 "
   ]
  },
  {
   "cell_type": "markdown",
   "metadata": {},
   "source": [
    "Let us now simply plot for each prediction the predicted value using regression and the real label in the same vertical line . We will only plot 50 values ."
   ]
  },
  {
   "cell_type": "code",
   "execution_count": 224,
   "metadata": {},
   "outputs": [
    {
     "data": {
      "text/plain": [
       "<matplotlib.collections.PathCollection at 0x2d808c30f60>"
      ]
     },
     "execution_count": 224,
     "metadata": {},
     "output_type": "execute_result"
    }
   ],
   "source": [
    "import matplotlib.pyplot as plt\n",
    "x =np.linspace(0,100,50)\n",
    "y = Ypredicted[:50]\n",
    "z =Y_testMNIST[:50]\n",
    "\n",
    "fig1 = plt.figure(figsize=(20,10))\n",
    "plt.scatter(x,y)\n",
    "plt.scatter(x,z)\n"
   ]
  },
  {
   "cell_type": "code",
   "execution_count": 225,
   "metadata": {},
   "outputs": [
    {
     "data": {
      "image/png": "[encoded data removed]",
      "text/plain": [
       "<matplotlib.figure.Figure at 0x2d7fd31d6a0>"
      ]
     },
     "metadata": {},
     "output_type": "display_data"
    }
   ],
   "source": [
    "plt.show()"
   ]
  },
  {
   "cell_type": "markdown",
   "metadata": {
    "collapsed": true
   },
   "source": [
    "There are points that are extremely far from their predictions ."
   ]
  },
  {
   "cell_type": "code",
   "execution_count": null,
   "metadata": {
    "collapsed": true
   },
   "outputs": [],
   "source": []
  },
  {
   "cell_type": "markdown",
   "metadata": {},
   "source": [
    "Mean square error :"
   ]
  },
  {
   "cell_type": "code",
   "execution_count": 74,
   "metadata": {
    "collapsed": true
   },
   "outputs": [],
   "source": [
    "def mse(X,y,clf):\n",
    "    d = y-clf.predict(X)\n",
    "    return 1/float(len(y)) * d.T.dot(d)"
   ]
  },
  {
   "cell_type": "code",
   "execution_count": 244,
   "metadata": {},
   "outputs": [
    {
     "data": {
      "text/plain": [
       "3.5674281360997138"
      ]
     },
     "execution_count": 244,
     "metadata": {},
     "output_type": "execute_result"
    }
   ],
   "source": [
    "mse(X_testMNIST,Y_testMNIST,clf)"
   ]
  },
  {
   "cell_type": "markdown",
   "metadata": {},
   "source": [
    "Even if many points are very far from their prediction using our regression model , we still have a low mean square error because we guess that our algorithm still makes a good prediction for many points , we will get to see this when calculating the accuracy of the model later ."
   ]
  },
  {
   "cell_type": "markdown",
   "metadata": {
    "collapsed": true
   },
   "source": [
    "4-d(Mnist) :"
   ]
  },
  {
   "cell_type": "markdown",
   "metadata": {},
   "source": [
    "A way to discretize data would be to use int(round(prediction which will take the nearest int to the float value , since there are values that will go out of our possible labels 0-9 , we decided to assign all the values under 0 to 0 and all the ones over 9 to 9 "
   ]
  },
  {
   "cell_type": "code",
   "execution_count": 22,
   "metadata": {
    "collapsed": true
   },
   "outputs": [],
   "source": [
    "Ypredicted=[int(round(clf.predict(X_testMNIST[k]))) for k in range(len(Y_testMNIST))]"
   ]
  },
  {
   "cell_type": "code",
   "execution_count": 36,
   "metadata": {
    "collapsed": true
   },
   "outputs": [],
   "source": [
    "Ypredictedadapted=[]\n",
    "for k in range(len(Ypredicted)):\n",
    "    if Ypredicted[k]>9:\n",
    "        Ypredictedadapted+=[9]\n",
    "    elif Ypredicted[k]<0:\n",
    "        Ypredictedadapted+=[0]\n",
    "    else :\n",
    "        Ypredictedadapted+=[Ypredicted[k]]"
   ]
  },
  {
   "cell_type": "markdown",
   "metadata": {},
   "source": [
    "Accuracy :"
   ]
  },
  {
   "cell_type": "code",
   "execution_count": 37,
   "metadata": {},
   "outputs": [
    {
     "name": "stdout",
     "output_type": "stream",
     "text": [
      "25.580000000000002\n"
     ]
    }
   ],
   "source": [
    "s=0\n",
    "for k in range(len(Y_testMNIST)):\n",
    "    if Ypredictedadapted[k]==Y_testMNIST[k] :\n",
    "        s+=1\n",
    "print((s/len(Y_testMNIST))*100)"
   ]
  },
  {
   "cell_type": "markdown",
   "metadata": {},
   "source": [
    "Confusion Matrix :"
   ]
  },
  {
   "cell_type": "code",
   "execution_count": 86,
   "metadata": {
    "collapsed": true
   },
   "outputs": [],
   "source": [
    "import numpy as np\n",
    "def confusion_Matrix(testSet,predictions):\n",
    "    confusionMatrix=np.array([[0]*(max(predictions)+1) for i in range (0,(max(predictions)+1))]) #Initializing the confusion matrix\n",
    "    for i in range (len(testSet)):\n",
    "        confusionMatrix[testSet[i]][predictions[i]]+=1\n",
    "    return confusionMatrix"
   ]
  },
  {
   "cell_type": "code",
   "execution_count": 38,
   "metadata": {},
   "outputs": [
    {
     "data": {
      "text/plain": [
       "array([[342, 330, 177,  72,  37,  17,   2,   3,   0,   0],\n",
       "       [ 19, 483, 380, 149,  64,  27,   9,   3,   1,   0],\n",
       "       [ 45, 133, 240, 284, 212,  88,  19,   8,   1,   2],\n",
       "       [ 10,  55, 199, 302, 232, 124,  51,  20,  12,   5],\n",
       "       [  0,   3,  24,  89, 233, 294, 193,  99,  33,  14],\n",
       "       [  2,  16,  70, 164, 209, 223, 125,  45,  21,  17],\n",
       "       [  2,  15,  38,  90, 175, 222, 195, 138,  60,  23],\n",
       "       [  0,   4,  22,  47,  91, 194, 211, 193, 139, 127],\n",
       "       [  0,   5,   5,  38,  99, 163, 225, 208, 130, 101],\n",
       "       [  0,   2,   7,  19,  35,  71, 168, 258, 232, 217]])"
      ]
     },
     "execution_count": 38,
     "metadata": {},
     "output_type": "execute_result"
    }
   ],
   "source": [
    "confusion_Matrix(Y_testMNIST,Ypredictedadapted)"
   ]
  },
  {
   "cell_type": "markdown",
   "metadata": {},
   "source": [
    "4-b/4-c/4-d/ for CIFAR data :"
   ]
  },
  {
   "cell_type": "markdown",
   "metadata": {
    "collapsed": true
   },
   "source": [
    "4-b(Cifar) :"
   ]
  },
  {
   "cell_type": "code",
   "execution_count": 68,
   "metadata": {
    "collapsed": true
   },
   "outputs": [],
   "source": [
    "clf = BayesianLinearRegression(fit_intercept=False)\n",
    "clf.fit_map(totalX,totalY)"
   ]
  },
  {
   "cell_type": "code",
   "execution_count": 83,
   "metadata": {
    "collapsed": true
   },
   "outputs": [],
   "source": [
    "Ypredicted=[clf.predict(X_testCIFAR[k]) for k in range(len(Y_testCIFAR))]"
   ]
  },
  {
   "cell_type": "code",
   "execution_count": 85,
   "metadata": {},
   "outputs": [
    {
     "data": {
      "text/plain": [
       "[2.9128207341970329,\n",
       " 5.6560390443037623,\n",
       " 5.0461481365691148,\n",
       " 4.8217614178649537,\n",
       " 6.3329020027185514,\n",
       " 3.396924453015175,\n",
       " 2.2042228183754378,\n",
       " 2.952452600106418,\n",
       " 3.5534942068511013,\n",
       " 5.1309938256695604,\n",
       " 3.0213648937417323,\n",
       " 6.8319780487086641,\n",
       " 3.0133034510297492,\n",
       " 3.5963824520732963,\n",
       " 2.9364065331913416,\n",
       " 2.6552232772691875,\n",
       " 3.1868131456152082,\n",
       " 4.0213047000110516,\n",
       " 5.9991003452355454,\n",
       " 6.5102060569343063]"
      ]
     },
     "execution_count": 85,
     "metadata": {},
     "output_type": "execute_result"
    }
   ],
   "source": [
    "Ypredicted[0:20]"
   ]
  },
  {
   "cell_type": "markdown",
   "metadata": {},
   "source": [
    "4-c(CIFAR): We will proceed the same way as for MNIST :"
   ]
  },
  {
   "cell_type": "code",
   "execution_count": 70,
   "metadata": {
    "collapsed": true
   },
   "outputs": [],
   "source": [
    "dictio_of_classesCIFAR = createdictionaryofclasses(Ypredicted,Y_testCIFAR)"
   ]
  },
  {
   "cell_type": "code",
   "execution_count": 71,
   "metadata": {
    "collapsed": true
   },
   "outputs": [],
   "source": [
    "import matplotlib.pyplot as plt\n",
    "fig, ax = plt.subplots()\n",
    "for k in range(10):\n",
    "    ax.scatter([[k]*len(dictio_of_classesCIFAR[k])],dictio_of_classesCIFAR[k])"
   ]
  },
  {
   "cell_type": "code",
   "execution_count": 72,
   "metadata": {},
   "outputs": [
    {
     "data": {
      "image/png": "[encoded data removed]",
      "text/plain": [
       "<matplotlib.figure.Figure at 0x2397c866438>"
      ]
     },
     "metadata": {},
     "output_type": "display_data"
    }
   ],
   "source": [
    "plt.xlabel('real labels')\n",
    "plt.ylabel('estimations with bayesian linear regression ')\n",
    "plt.show()"
   ]
  },
  {
   "cell_type": "markdown",
   "metadata": {},
   "source": [
    "The predictions using our regression model for the class 0 for example go from -2.3 untill almost 10 , we get a higher intervalle for 1 and for the others label in general , but as I mentionned before , this graph doesn't allow us to guess the accuracy of the model since we can get for example for the class 0 100 predictions that are different from 0 covering all the intervalle [-2.3,10] and still get a good accuracy because many of the predictions are equal to 0 ."
   ]
  },
  {
   "cell_type": "code",
   "execution_count": 9,
   "metadata": {},
   "outputs": [
    {
     "data": {
      "image/png": "[encoded data removed]",
      "text/plain": [
       "<matplotlib.figure.Figure at 0x21ba4a577f0>"
      ]
     },
     "metadata": {},
     "output_type": "display_data"
    }
   ],
   "source": [
    "import matplotlib.pyplot as plt\n",
    "x =np.linspace(0,100,50)\n",
    "y = Ypredicted[:50]\n",
    "z =Y_testCIFAR[:50]\n",
    "\n",
    "fig2 = plt.figure(figsize=(20,10))\n",
    "plt.scatter(x,y)\n",
    "plt.scatter(x,z)\n",
    "plt.show()"
   ]
  },
  {
   "cell_type": "markdown",
   "metadata": {},
   "source": [
    "we can see from this graph that for CIFAR , many predictions are very far away from the real label of the image , we guess that we will have a higher mean square error than for MNIST ."
   ]
  },
  {
   "cell_type": "code",
   "execution_count": 75,
   "metadata": {},
   "outputs": [
    {
     "data": {
      "text/plain": [
       "9.4730989104348016"
      ]
     },
     "execution_count": 75,
     "metadata": {},
     "output_type": "execute_result"
    }
   ],
   "source": [
    "mse(X_testCIFAR,Y_testCIFAR,clf)"
   ]
  },
  {
   "cell_type": "markdown",
   "metadata": {},
   "source": [
    "4-d (CIFAR)"
   ]
  },
  {
   "cell_type": "markdown",
   "metadata": {},
   "source": [
    "A way to discretize data would be to use int(round(prediction which will take the nearest int to the float value , since there are values that will go out of our possible labels 0-9 , we decided to assign all the values under 0 to 0 and all the ones over 9 to 9 "
   ]
  },
  {
   "cell_type": "code",
   "execution_count": 76,
   "metadata": {
    "collapsed": true
   },
   "outputs": [],
   "source": [
    "Ypredicted=[int(round(clf.predict(X_testCIFAR[k]))) for k in range(len(Y_testCIFAR))]"
   ]
  },
  {
   "cell_type": "code",
   "execution_count": 77,
   "metadata": {
    "collapsed": true
   },
   "outputs": [],
   "source": [
    "Ypredictedadapted=[]\n",
    "for k in range(len(Ypredicted)):\n",
    "    if Ypredicted[k]>9:\n",
    "        Ypredictedadapted+=[9]\n",
    "    elif Ypredicted[k]<0:\n",
    "        Ypredictedadapted+=[0]\n",
    "    else :\n",
    "        Ypredictedadapted+=[Ypredicted[k]]"
   ]
  },
  {
   "cell_type": "markdown",
   "metadata": {},
   "source": [
    "Accuracy :"
   ]
  },
  {
   "cell_type": "code",
   "execution_count": 79,
   "metadata": {},
   "outputs": [
    {
     "name": "stdout",
     "output_type": "stream",
     "text": [
      "11.27\n"
     ]
    }
   ],
   "source": [
    "s=0\n",
    "for k in range(len(Y_testCIFAR)):\n",
    "    if Ypredictedadapted[k]==Y_testCIFAR[k] :\n",
    "        s+=1\n",
    "print((s/len(Y_testCIFAR))*100)"
   ]
  },
  {
   "cell_type": "markdown",
   "metadata": {},
   "source": [
    "We get a very low accuracy for CIFAR which can even be compared to the random classifier , which is normal because we have much more features for CIFAR (3072) than MNIST (784), we guess that we can not model 3072 features (those of cifar especially) using a bayesian linear regression model , we also guess that we will have an underfitting when modeling . "
   ]
  },
  {
   "cell_type": "markdown",
   "metadata": {},
   "source": [
    "Confusion Matrix :"
   ]
  },
  {
   "cell_type": "code",
   "execution_count": 80,
   "metadata": {
    "collapsed": true
   },
   "outputs": [],
   "source": [
    "import numpy as np\n",
    "def confusion_Matrix(testSet,predictions):\n",
    "    confusionMatrix=np.array([[0]*(max(predictions)+1) for i in range (0,(max(predictions)+1))]) #Initializing the confusion matrix\n",
    "    for i in range (len(testSet)):\n",
    "        confusionMatrix[testSet[i]][predictions[i]]+=1\n",
    "    return confusionMatrix"
   ]
  },
  {
   "cell_type": "code",
   "execution_count": 82,
   "metadata": {},
   "outputs": [
    {
     "data": {
      "text/plain": [
       "array([[ 11,  30,  90, 177, 240, 246, 130,  57,  14,   5],\n",
       "       [ 23,  46, 115, 173, 213, 222, 120,  57,  20,  11],\n",
       "       [ 13,  29, 105, 215, 258, 213, 112,  33,  13,   9],\n",
       "       [ 21,  40, 109, 224, 253, 201,  94,  38,  15,   5],\n",
       "       [  7,  45, 117, 206, 256, 225,  99,  31,  11,   3],\n",
       "       [  9,  25,  89, 194, 257, 226, 140,  48,  10,   2],\n",
       "       [  3,  22,  85, 219, 260, 217, 121,  48,  20,   5],\n",
       "       [  5,  17,  67, 155, 222, 215, 178,  91,  31,  19],\n",
       "       [  3,  15,  35, 126, 241, 282, 194,  70,  23,  11],\n",
       "       [  8,  21,  57, 108, 185, 239, 197, 117,  44,  24]])"
      ]
     },
     "execution_count": 82,
     "metadata": {},
     "output_type": "execute_result"
    }
   ],
   "source": [
    "confusion_Matrix(Y_testCIFAR,Ypredictedadapted)"
   ]
  },
  {
   "cell_type": "markdown",
   "metadata": {
    "collapsed": true
   },
   "source": [
    "4-e :\n",
    "\n",
    "For Mnist data with 784 features , the regression bayesian linear  gives 25.5% accuracy which is better than the random classifier comparing to Cifar data with 3072 features where the accuracy result is awfull , indeed with our linear model we can get an underfitting , therefore a bad performance in both train and test data since the linear model doesn't model efficiently our dataset .\n",
    "\n",
    "An other problem is that when trying to classify using regression , we may get as labels values that are not in the possible labels like when we had the value of 9.7 in the regression which gave us the value of 10 in the label knowing that the possible labels are 0-9 . So we had to replace those values by their nearest integer in (0-9) bu this way we are loosing information on data and we may be choosing a bad classifying , since not all the images with the prediction label over 9 have the value 9 as their real label , therefore the regression model that leads to discretizing is not that efficient ."
   ]
  },
  {
   "cell_type": "markdown",
   "metadata": {},
   "source": [
    "4-f:\n",
    "One limitation is that most of the time the prediction is not an integer , and when trying to discretize  our predictions we assume that the right prediction is the nearest integer which is not the best thing to do here especially because sometimes we may even get predictions out of our possible labels 0-9 and by assigning them to the nearest integer in this interval (either 0 or 9 ) we may be loosing much information .\n"
   ]
  }
 ],
 "metadata": {
  "kernelspec": {
   "display_name": "Python 3",
   "language": "python",
   "name": "python3"
  },
  "language_info": {
   "codemirror_mode": {
    "name": "ipython",
    "version": 3
   },
   "file_extension": ".py",
   "mimetype": "text/x-python",
   "name": "python",
   "nbconvert_exporter": "python",
   "pygments_lexer": "ipython3",
   "version": "3.6.0"
  }
 },
 "nbformat": 4,
 "nbformat_minor": 2
}
